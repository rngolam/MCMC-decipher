{
 "cells": [
  {
   "cell_type": "markdown",
   "metadata": {
    "slideshow": {
     "slide_type": "slide"
    }
   },
   "source": [
    "### Introduction\n",
    "\n",
    "![title](images/prisontext.png)\n"
   ]
  },
  {
   "cell_type": "code",
   "execution_count": 1,
   "metadata": {
    "slideshow": {
     "slide_type": "subslide"
    }
   },
   "outputs": [],
   "source": [
    "from IPython.display import clear_output\n",
    "import runners, crawler, scrambler\n",
    "import matplotlib.pyplot as plt\n",
    "import numpy as np\n",
    "import seaborn as sns\n",
    "import pandas as pd\n",
    "import time"
   ]
  },
  {
   "cell_type": "markdown",
   "metadata": {
    "slideshow": {
     "slide_type": "slide"
    }
   },
   "source": [
    "#### Plausibility Function\n",
    "\n",
    "![title](images/plausibility.png)"
   ]
  },
  {
   "cell_type": "markdown",
   "metadata": {
    "slideshow": {
     "slide_type": "subslide"
    }
   },
   "source": [
    "First, I will define the Plausibility function f(x, s, g) where x is the cipher, s is the scrambled string, and g is conditional bigram probability distribution."
   ]
  },
  {
   "cell_type": "code",
   "execution_count": 2,
   "metadata": {
    "slideshow": {
     "slide_type": "subslide"
    }
   },
   "outputs": [],
   "source": [
    "def f(x, s, g):\n",
    "    y = 0\n",
    "    for i in range(0, len(s) - 1):\n",
    "        v = g[x[s[i]]][x[s[i + 1]]]\n",
    "        if v == 0:\n",
    "            v = 1 / 50000000\n",
    "        y += np.log(v)\n",
    "    return y"
   ]
  },
  {
   "cell_type": "markdown",
   "metadata": {
    "slideshow": {
     "slide_type": "slide"
    }
   },
   "source": [
    "I'm going to run the simulation with sample text that was used in the paper. I'm using a sanitize function to handle puctuation, random double spaces, and other formatting anomalies."
   ]
  },
  {
   "cell_type": "code",
   "execution_count": 3,
   "metadata": {
    "slideshow": {
     "slide_type": "subslide"
    }
   },
   "outputs": [
    {
     "name": "stdout",
     "output_type": "stream",
     "text": [
      "ENTER HAMLET HAMLET TO BE OR NOT TO BE THAT IS THE QUESTION WHETHER TIS NOBLER IN THE MIND TO SUFFER THE SLINGS AND ARROWS OF OUTRAGEOUS FORTUNE\n"
     ]
    }
   ],
   "source": [
    "o = crawler.sanitize('ENTER HAMLET. HAMLET. To be, or not to be, that is the'\n",
    "                     ' question: Whether ’tis nobler in the mind to suffer T'\n",
    "                     'he slings and arrows of outrageous fortune')\n",
    "print(o)"
   ]
  },
  {
   "cell_type": "markdown",
   "metadata": {
    "slideshow": {
     "slide_type": "slide"
    }
   },
   "source": [
    "I want to see a visualization of the conditional bigram frequencies, so I'll plot it on a heatmap."
   ]
  },
  {
   "cell_type": "code",
   "execution_count": 4,
   "metadata": {
    "slideshow": {
     "slide_type": "subslide"
    }
   },
   "outputs": [
    {
     "data": {
      "image/png": "[encoded data removed]",
      "text/plain": [
       "<matplotlib.figure.Figure at 0x7f2f70636978>"
      ]
     },
     "metadata": {},
     "output_type": "display_data"
    }
   ],
   "source": [
    "sns.set(rc={'figure.figsize':(14, 14)})\n",
    "h = crawler.cbfd_from_book('ProjectGutenberg/Hamlet.txt')\n",
    "sns.heatmap(h, linewidths=.5, square=True, cbar=False, xticklabels=crawler.alphabet, yticklabels=crawler.alphabet)\n",
    "plt.yticks(rotation=0)\n",
    "plt.show()"
   ]
  },
  {
   "cell_type": "markdown",
   "metadata": {
    "slideshow": {
     "slide_type": "slide"
    }
   },
   "source": [
    "Now I will create the variables needed to run the algorithm. We need a conditional bigram probability distribution g, a scrabled string s, and an initial guess at the cipher x."
   ]
  },
  {
   "cell_type": "code",
   "execution_count": 5,
   "metadata": {
    "slideshow": {
     "slide_type": "subslide"
    }
   },
   "outputs": [],
   "source": [
    "g = crawler.cbpd_from_book('ProjectGutenberg/Hamlet.txt')\n",
    "s = scrambler.scramble(o)\n",
    "x = dict(zip(crawler.alphabet, crawler.alphabet))\n",
    "x_ = dict(x)"
   ]
  },
  {
   "cell_type": "markdown",
   "metadata": {
    "slideshow": {
     "slide_type": "slide"
    }
   },
   "source": [
    "I define some variables for controlling the algorithms and output to Jupyter Notebook."
   ]
  },
  {
   "cell_type": "code",
   "execution_count": 6,
   "metadata": {
    "slideshow": {
     "slide_type": "subslide"
    }
   },
   "outputs": [],
   "source": [
    "max_iterations = 100000\n",
    "l_sleep = 0\n",
    "p_interval = 100\n",
    "hc_p_interval = 1\n",
    "hc_max_iterations = 200\n",
    "hc_rrate = 50"
   ]
  },
  {
   "cell_type": "markdown",
   "metadata": {
    "slideshow": {
     "slide_type": "slide"
    }
   },
   "source": [
    "# Hill Climbing"
   ]
  },
  {
   "cell_type": "code",
   "execution_count": 7,
   "metadata": {
    "slideshow": {
     "slide_type": "subslide"
    }
   },
   "outputs": [
    {
     "name": "stdout",
     "output_type": "stream",
     "text": [
      "200 EUAED TINSEA TINSEA AR WE RD URA AR WE ATIA BY ATE OMEYABRU CTEATED ABY URWSED BU ATE NBUG AR YMPPED ATE YSBULY IUG IDDRCY RP RMADILERMY PRDAMUE\n"
     ]
    }
   ],
   "source": [
    "x = dict(x_)\n",
    "iteration = 1\n",
    "while iteration < hc_max_iterations and scrambler.unscramble_with_cipher(x, s) != o:\n",
    "    x = runners.hill_climbing(f, x, s, g)\n",
    "    time.sleep(l_sleep)\n",
    "    if iteration % hc_p_interval == 0:\n",
    "        clear_output(wait=True)\n",
    "        print('%d %s' % (iteration, scrambler.unscramble_with_cipher(x, s)))\n",
    "    iteration += 1\n",
    "clear_output(wait=True)\n",
    "print('%d %s' % (iteration, scrambler.unscramble_with_cipher(x, s)))"
   ]
  },
  {
   "cell_type": "markdown",
   "metadata": {
    "slideshow": {
     "slide_type": "subslide"
    }
   },
   "source": [
    "![title](run_data/hill_climbing_bad.png)"
   ]
  },
  {
   "cell_type": "markdown",
   "metadata": {
    "slideshow": {
     "slide_type": "slide"
    }
   },
   "source": [
    "# Hill Climbing with Random Restarts"
   ]
  },
  {
   "cell_type": "code",
   "execution_count": 8,
   "metadata": {
    "slideshow": {
     "slide_type": "subslide"
    }
   },
   "outputs": [
    {
     "name": "stdout",
     "output_type": "stream",
     "text": [
      "26 ENTER HAMLET HAMLET TO BE OR NOT TO BE THAT IS THE QUESTION WHETHER TIS NOBLER IN THE MIND TO SUFFER THE SLINGS AND ARROWS OF OUTRAGEOUS FORTUNE\n"
     ]
    }
   ],
   "source": [
    "x = dict(x_)\n",
    "iteration = 1\n",
    "while scrambler.unscramble_with_cipher(x, s) != o:\n",
    "    time.sleep(l_sleep)\n",
    "    if iteration % hc_p_interval == 0:\n",
    "        clear_output(wait=True)\n",
    "        print('%d %s' % (iteration, scrambler.unscramble_with_cipher(x, s)))\n",
    "    x = runners.hill_climbing(f, x, s, g)\n",
    "    iteration += 1\n",
    "    if iteration > hc_rrate:\n",
    "        iteration = 1\n",
    "        x = runners.swap(runners.swap(dict(x_)))\n",
    "clear_output(wait=True)\n",
    "print('%d %s' % (iteration, scrambler.unscramble_with_cipher(x, s)))"
   ]
  },
  {
   "cell_type": "markdown",
   "metadata": {
    "slideshow": {
     "slide_type": "subslide"
    }
   },
   "source": [
    "![title](run_data/hill_climbing.png)"
   ]
  },
  {
   "cell_type": "markdown",
   "metadata": {
    "slideshow": {
     "slide_type": "slide"
    }
   },
   "source": [
    "# Metropolis Algorithm"
   ]
  },
  {
   "cell_type": "code",
   "execution_count": 10,
   "metadata": {
    "slideshow": {
     "slide_type": "subslide"
    }
   },
   "outputs": [
    {
     "name": "stdout",
     "output_type": "stream",
     "text": [
      "1728 ENTER HAMLET HAMLET TO BE OR NOT TO BE THAT IS THE QUESTION WHETHER TIS NOBLER IN THE MIND TO SUFFER THE SLINGS AND ARROWS OF OUTRAGEOUS FORTUNE\n"
     ]
    }
   ],
   "source": [
    "x = dict(x_)\n",
    "iteration = 1\n",
    "while iteration < max_iterations and scrambler.unscramble_with_cipher(x, s) != o:\n",
    "    time.sleep(l_sleep)\n",
    "    if iteration % p_interval == 0:\n",
    "        clear_output(wait=True)\n",
    "        print('%d %s' % (iteration, scrambler.unscramble_with_cipher(x, s)))\n",
    "    x = runners.metropolis(f, x, s, g)\n",
    "    iteration += 1\n",
    "clear_output(wait=True)\n",
    "print('%d %s' % (iteration, scrambler.unscramble_with_cipher(x, s)))"
   ]
  },
  {
   "cell_type": "markdown",
   "metadata": {
    "slideshow": {
     "slide_type": "subslide"
    }
   },
   "source": [
    "![title](run_data/metropolis.png)"
   ]
  },
  {
   "cell_type": "markdown",
   "metadata": {
    "slideshow": {
     "slide_type": "slide"
    }
   },
   "source": [
    "# Metropolis-Hastings Algorithm"
   ]
  },
  {
   "cell_type": "code",
   "execution_count": 11,
   "metadata": {
    "slideshow": {
     "slide_type": "subslide"
    }
   },
   "outputs": [
    {
     "name": "stdout",
     "output_type": "stream",
     "text": [
      "7604 ENTER HAMLET HAMLET TO BE OR NOT TO BE THAT IS THE QUESTION WHETHER TIS NOBLER IN THE MIND TO SUFFER THE SLINGS AND ARROWS OF OUTRAGEOUS FORTUNE\n"
     ]
    }
   ],
   "source": [
    "x = dict(x_)\n",
    "iteration = 1\n",
    "while iteration < max_iterations and scrambler.unscramble_with_cipher(x, s) != o:\n",
    "    time.sleep(l_sleep)\n",
    "    if iteration % p_interval == 0:\n",
    "        clear_output(wait=True)\n",
    "        print('%d %s' % (iteration, scrambler.unscramble_with_cipher(x, s)))\n",
    "    x = runners.metropolis_hastings(f, x, s, g)\n",
    "    iteration += 1\n",
    "clear_output(wait=True)\n",
    "print('%d %s' % (iteration, scrambler.unscramble_with_cipher(x, s)))"
   ]
  },
  {
   "cell_type": "markdown",
   "metadata": {
    "slideshow": {
     "slide_type": "subslide"
    }
   },
   "source": [
    "![title](run_data/metropolis_hastings.png)"
   ]
  },
  {
   "cell_type": "markdown",
   "metadata": {
    "slideshow": {
     "slide_type": "slide"
    }
   },
   "source": [
    "# Simulated-Annealing Algorithm"
   ]
  },
  {
   "cell_type": "code",
   "execution_count": 12,
   "metadata": {
    "slideshow": {
     "slide_type": "subslide"
    }
   },
   "outputs": [
    {
     "name": "stdout",
     "output_type": "stream",
     "text": [
      "27693 ENTER HAMLET HAMLET TO BE OR NOT TO BE THAT IS THE QUESTION WHETHER TIS NOBLER IN THE MIND TO SUFFER THE SLINGS AND ARROWS OF OUTRAGEOUS FORTUNE\n"
     ]
    }
   ],
   "source": [
    "x = dict(x_)\n",
    "iteration = 1\n",
    "runners.reset_temp()\n",
    "while iteration < max_iterations and scrambler.unscramble_with_cipher(x, s) != o:\n",
    "    time.sleep(l_sleep)\n",
    "    if iteration % p_interval == 0:\n",
    "        clear_output(wait=True)\n",
    "        print('%d %s' % (iteration, scrambler.unscramble_with_cipher(x, s)))\n",
    "    x = runners.simulated_annealing(f, x, s, g)\n",
    "    iteration += 1\n",
    "clear_output(wait=True)\n",
    "print('%d %s' % (iteration, scrambler.unscramble_with_cipher(x, s)))"
   ]
  },
  {
   "cell_type": "markdown",
   "metadata": {
    "slideshow": {
     "slide_type": "subslide"
    }
   },
   "source": [
    "![title](run_data/simulated_annealing.png)"
   ]
  },
  {
   "cell_type": "markdown",
   "metadata": {
    "slideshow": {
     "slide_type": "slide"
    }
   },
   "source": [
    "### Conclusion\n",
    "\n",
    "Stay away from prisons so you don't have to solve substitution ciphers."
   ]
  }
 ],
 "metadata": {
  "kernelspec": {
   "display_name": "Python 3",
   "language": "python",
   "name": "python3"
  },
  "language_info": {
   "codemirror_mode": {
    "name": "ipython",
    "version": 3
   },
   "file_extension": ".py",
   "mimetype": "text/x-python",
   "name": "python",
   "nbconvert_exporter": "python",
   "pygments_lexer": "ipython3",
   "version": "3.6.4"
  }
 },
 "nbformat": 4,
 "nbformat_minor": 2
}
